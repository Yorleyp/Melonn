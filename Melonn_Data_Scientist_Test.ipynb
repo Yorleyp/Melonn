{
 "cells": [
  {
   "cell_type": "markdown",
   "metadata": {},
   "source": [
    "# Data Scientist Assessment Test\n",
    "\n",
    "The next notebook will present the Data Scientist Assessment test for the Melonn Company.\n",
    "\n",
    "In this, we'll have to predict the monthly sales of a company in order to help them to efficiently contract the required personal\n",
    "\n",
    "Presented by: Yorley Palacios"
   ]
  },
  {
   "cell_type": "code",
   "execution_count": 379,
   "metadata": {},
   "outputs": [],
   "source": [
    "#importing libraries\n",
    "import pandas as pd\n",
    "import numpy as np\n",
    "from datetime import datetime, timedelta\n",
    "from math import floor"
   ]
  },
  {
   "cell_type": "code",
   "execution_count": 2,
   "metadata": {},
   "outputs": [],
   "source": [
    "#reading data\n",
    "df = pd.read_csv('Datos_Prueba_DataScientist.csv')"
   ]
  },
  {
   "cell_type": "code",
   "execution_count": 3,
   "metadata": {},
   "outputs": [
    {
     "name": "stdout",
     "output_type": "stream",
     "text": [
      "<class 'pandas.core.frame.DataFrame'>\n",
      "RangeIndex: 153275 entries, 0 to 153274\n",
      "Data columns (total 3 columns):\n",
      " #   Column          Non-Null Count   Dtype \n",
      "---  ------          --------------   ----- \n",
      " 0   OrderId         153275 non-null  object\n",
      " 1   RequestTime     153275 non-null  object\n",
      " 2   DeliveryOption  153275 non-null  object\n",
      "dtypes: object(3)\n",
      "memory usage: 3.5+ MB\n"
     ]
    }
   ],
   "source": [
    "df.info()"
   ]
  },
  {
   "cell_type": "code",
   "execution_count": 4,
   "metadata": {},
   "outputs": [],
   "source": [
    "df.RequestTime = pd.to_datetime(df.RequestTime, format='%Y%m%d %H:%M:%S', errors='raise')"
   ]
  },
  {
   "cell_type": "code",
   "execution_count": 5,
   "metadata": {},
   "outputs": [
    {
     "data": {
      "text/html": [
       "<div>\n",
       "<style scoped>\n",
       "    .dataframe tbody tr th:only-of-type {\n",
       "        vertical-align: middle;\n",
       "    }\n",
       "\n",
       "    .dataframe tbody tr th {\n",
       "        vertical-align: top;\n",
       "    }\n",
       "\n",
       "    .dataframe thead th {\n",
       "        text-align: right;\n",
       "    }\n",
       "</style>\n",
       "<table border=\"1\" class=\"dataframe\">\n",
       "  <thead>\n",
       "    <tr style=\"text-align: right;\">\n",
       "      <th></th>\n",
       "      <th>OrderId</th>\n",
       "      <th>RequestTime</th>\n",
       "      <th>DeliveryOption</th>\n",
       "    </tr>\n",
       "  </thead>\n",
       "  <tbody>\n",
       "    <tr>\n",
       "      <th>0</th>\n",
       "      <td>PED_1</td>\n",
       "      <td>2018-01-01 08:03:12</td>\n",
       "      <td>Mismo dia entre 6:30 pm y 8:30 pm</td>\n",
       "    </tr>\n",
       "    <tr>\n",
       "      <th>1</th>\n",
       "      <td>PED_2</td>\n",
       "      <td>2018-01-01 08:28:55</td>\n",
       "      <td>Mismo dia entre 6:30 pm y 8:30 pm</td>\n",
       "    </tr>\n",
       "    <tr>\n",
       "      <th>2</th>\n",
       "      <td>PED_3</td>\n",
       "      <td>2018-01-01 08:39:08</td>\n",
       "      <td>Mismo dia entre 6:30 pm y 8:30 pm</td>\n",
       "    </tr>\n",
       "    <tr>\n",
       "      <th>3</th>\n",
       "      <td>PED_4</td>\n",
       "      <td>2018-01-01 09:25:07</td>\n",
       "      <td>Siguiente dia entre 12:30 pm y 2:30 pm</td>\n",
       "    </tr>\n",
       "    <tr>\n",
       "      <th>4</th>\n",
       "      <td>PED_5</td>\n",
       "      <td>2018-01-01 09:36:25</td>\n",
       "      <td>Siguiente dia entre 12:30 pm y 2:30 pm</td>\n",
       "    </tr>\n",
       "    <tr>\n",
       "      <th>5</th>\n",
       "      <td>PED_6</td>\n",
       "      <td>2018-01-01 10:21:53</td>\n",
       "      <td>Mismo dia entre 6:30 pm y 8:30 pm</td>\n",
       "    </tr>\n",
       "    <tr>\n",
       "      <th>6</th>\n",
       "      <td>PED_7</td>\n",
       "      <td>2018-01-01 10:27:17</td>\n",
       "      <td>Mismo dia entre 6:30 pm y 8:30 pm</td>\n",
       "    </tr>\n",
       "    <tr>\n",
       "      <th>7</th>\n",
       "      <td>PED_8</td>\n",
       "      <td>2018-01-01 10:48:53</td>\n",
       "      <td>Mismo dia entre 6:30 pm y 8:30 pm</td>\n",
       "    </tr>\n",
       "    <tr>\n",
       "      <th>8</th>\n",
       "      <td>PED_9</td>\n",
       "      <td>2018-01-01 11:13:10</td>\n",
       "      <td>Mismo dia entre 6:30 pm y 8:30 pm</td>\n",
       "    </tr>\n",
       "    <tr>\n",
       "      <th>9</th>\n",
       "      <td>PED_10</td>\n",
       "      <td>2018-01-01 11:39:26</td>\n",
       "      <td>Siguiente dia entre las 6:30 pm y 8:30 pm</td>\n",
       "    </tr>\n",
       "  </tbody>\n",
       "</table>\n",
       "</div>"
      ],
      "text/plain": [
       "  OrderId         RequestTime                             DeliveryOption\n",
       "0   PED_1 2018-01-01 08:03:12          Mismo dia entre 6:30 pm y 8:30 pm\n",
       "1   PED_2 2018-01-01 08:28:55          Mismo dia entre 6:30 pm y 8:30 pm\n",
       "2   PED_3 2018-01-01 08:39:08          Mismo dia entre 6:30 pm y 8:30 pm\n",
       "3   PED_4 2018-01-01 09:25:07     Siguiente dia entre 12:30 pm y 2:30 pm\n",
       "4   PED_5 2018-01-01 09:36:25     Siguiente dia entre 12:30 pm y 2:30 pm\n",
       "5   PED_6 2018-01-01 10:21:53          Mismo dia entre 6:30 pm y 8:30 pm\n",
       "6   PED_7 2018-01-01 10:27:17          Mismo dia entre 6:30 pm y 8:30 pm\n",
       "7   PED_8 2018-01-01 10:48:53          Mismo dia entre 6:30 pm y 8:30 pm\n",
       "8   PED_9 2018-01-01 11:13:10          Mismo dia entre 6:30 pm y 8:30 pm\n",
       "9  PED_10 2018-01-01 11:39:26  Siguiente dia entre las 6:30 pm y 8:30 pm"
      ]
     },
     "execution_count": 5,
     "metadata": {},
     "output_type": "execute_result"
    }
   ],
   "source": [
    "df.head(10)"
   ]
  },
  {
   "cell_type": "markdown",
   "metadata": {},
   "source": [
    "let's check if is there any additional DeliveryOption due to typos."
   ]
  },
  {
   "cell_type": "code",
   "execution_count": 6,
   "metadata": {},
   "outputs": [
    {
     "data": {
      "text/plain": [
       "array(['Mismo dia entre 6:30 pm y 8:30 pm',\n",
       "       'Siguiente dia entre 12:30 pm y 2:30 pm',\n",
       "       'Siguiente dia entre las 6:30 pm y 8:30 pm'], dtype=object)"
      ]
     },
     "execution_count": 6,
     "metadata": {},
     "output_type": "execute_result"
    }
   ],
   "source": [
    "df.DeliveryOption.unique()"
   ]
  },
  {
   "cell_type": "markdown",
   "metadata": {},
   "source": [
    "We have no problem with this feature, so we can proceed to determine the Delivery Day of each order according to the  criteria defined by ABC"
   ]
  },
  {
   "cell_type": "code",
   "execution_count": 7,
   "metadata": {},
   "outputs": [],
   "source": [
    "df['Delivery_Day'] = [x if y == 'Mismo dia entre 6:30 pm y 8:30 pm'  else x + timedelta(days=1) for (x,y) in zip(df.RequestTime,df.DeliveryOption)]"
   ]
  },
  {
   "cell_type": "code",
   "execution_count": 8,
   "metadata": {},
   "outputs": [],
   "source": [
    "df['Delivery_Day'] = df.Delivery_Day.dt.date"
   ]
  },
  {
   "cell_type": "code",
   "execution_count": 9,
   "metadata": {
    "scrolled": true
   },
   "outputs": [
    {
     "data": {
      "text/html": [
       "<div>\n",
       "<style scoped>\n",
       "    .dataframe tbody tr th:only-of-type {\n",
       "        vertical-align: middle;\n",
       "    }\n",
       "\n",
       "    .dataframe tbody tr th {\n",
       "        vertical-align: top;\n",
       "    }\n",
       "\n",
       "    .dataframe thead th {\n",
       "        text-align: right;\n",
       "    }\n",
       "</style>\n",
       "<table border=\"1\" class=\"dataframe\">\n",
       "  <thead>\n",
       "    <tr style=\"text-align: right;\">\n",
       "      <th></th>\n",
       "      <th>OrderId</th>\n",
       "      <th>RequestTime</th>\n",
       "      <th>DeliveryOption</th>\n",
       "      <th>Delivery_Day</th>\n",
       "    </tr>\n",
       "  </thead>\n",
       "  <tbody>\n",
       "    <tr>\n",
       "      <th>0</th>\n",
       "      <td>PED_1</td>\n",
       "      <td>2018-01-01 08:03:12</td>\n",
       "      <td>Mismo dia entre 6:30 pm y 8:30 pm</td>\n",
       "      <td>2018-01-01</td>\n",
       "    </tr>\n",
       "    <tr>\n",
       "      <th>1</th>\n",
       "      <td>PED_2</td>\n",
       "      <td>2018-01-01 08:28:55</td>\n",
       "      <td>Mismo dia entre 6:30 pm y 8:30 pm</td>\n",
       "      <td>2018-01-01</td>\n",
       "    </tr>\n",
       "    <tr>\n",
       "      <th>2</th>\n",
       "      <td>PED_3</td>\n",
       "      <td>2018-01-01 08:39:08</td>\n",
       "      <td>Mismo dia entre 6:30 pm y 8:30 pm</td>\n",
       "      <td>2018-01-01</td>\n",
       "    </tr>\n",
       "    <tr>\n",
       "      <th>3</th>\n",
       "      <td>PED_4</td>\n",
       "      <td>2018-01-01 09:25:07</td>\n",
       "      <td>Siguiente dia entre 12:30 pm y 2:30 pm</td>\n",
       "      <td>2018-01-02</td>\n",
       "    </tr>\n",
       "    <tr>\n",
       "      <th>4</th>\n",
       "      <td>PED_5</td>\n",
       "      <td>2018-01-01 09:36:25</td>\n",
       "      <td>Siguiente dia entre 12:30 pm y 2:30 pm</td>\n",
       "      <td>2018-01-02</td>\n",
       "    </tr>\n",
       "  </tbody>\n",
       "</table>\n",
       "</div>"
      ],
      "text/plain": [
       "  OrderId         RequestTime                          DeliveryOption  \\\n",
       "0   PED_1 2018-01-01 08:03:12       Mismo dia entre 6:30 pm y 8:30 pm   \n",
       "1   PED_2 2018-01-01 08:28:55       Mismo dia entre 6:30 pm y 8:30 pm   \n",
       "2   PED_3 2018-01-01 08:39:08       Mismo dia entre 6:30 pm y 8:30 pm   \n",
       "3   PED_4 2018-01-01 09:25:07  Siguiente dia entre 12:30 pm y 2:30 pm   \n",
       "4   PED_5 2018-01-01 09:36:25  Siguiente dia entre 12:30 pm y 2:30 pm   \n",
       "\n",
       "  Delivery_Day  \n",
       "0   2018-01-01  \n",
       "1   2018-01-01  \n",
       "2   2018-01-01  \n",
       "3   2018-01-02  \n",
       "4   2018-01-02  "
      ]
     },
     "execution_count": 9,
     "metadata": {},
     "output_type": "execute_result"
    }
   ],
   "source": [
    "df.head()"
   ]
  },
  {
   "cell_type": "markdown",
   "metadata": {},
   "source": [
    "ABC has explicitly defined shift criteria for the delivery options 1 and 3, and since the vehicles for the delivery of the option 2 orders leave at 12 PM, this order should be enlisted in the morning shift"
   ]
  },
  {
   "cell_type": "code",
   "execution_count": null,
   "metadata": {},
   "outputs": [],
   "source": [
    "df['enlisted_shift'] = ['Afternoon' if x == 'Mismo dia entre 6:30 pm y 8:30 pm' else 'Morning' for x in df.DeliveryOption]"
   ]
  },
  {
   "cell_type": "code",
   "execution_count": 11,
   "metadata": {},
   "outputs": [
    {
     "data": {
      "text/html": [
       "<div>\n",
       "<style scoped>\n",
       "    .dataframe tbody tr th:only-of-type {\n",
       "        vertical-align: middle;\n",
       "    }\n",
       "\n",
       "    .dataframe tbody tr th {\n",
       "        vertical-align: top;\n",
       "    }\n",
       "\n",
       "    .dataframe thead th {\n",
       "        text-align: right;\n",
       "    }\n",
       "</style>\n",
       "<table border=\"1\" class=\"dataframe\">\n",
       "  <thead>\n",
       "    <tr style=\"text-align: right;\">\n",
       "      <th></th>\n",
       "      <th>OrderId</th>\n",
       "      <th>RequestTime</th>\n",
       "      <th>DeliveryOption</th>\n",
       "      <th>Delivery_Day</th>\n",
       "      <th>enlisted_shift</th>\n",
       "    </tr>\n",
       "  </thead>\n",
       "  <tbody>\n",
       "    <tr>\n",
       "      <th>0</th>\n",
       "      <td>PED_1</td>\n",
       "      <td>2018-01-01 08:03:12</td>\n",
       "      <td>Mismo dia entre 6:30 pm y 8:30 pm</td>\n",
       "      <td>2018-01-01</td>\n",
       "      <td>Afternoon</td>\n",
       "    </tr>\n",
       "    <tr>\n",
       "      <th>1</th>\n",
       "      <td>PED_2</td>\n",
       "      <td>2018-01-01 08:28:55</td>\n",
       "      <td>Mismo dia entre 6:30 pm y 8:30 pm</td>\n",
       "      <td>2018-01-01</td>\n",
       "      <td>Afternoon</td>\n",
       "    </tr>\n",
       "    <tr>\n",
       "      <th>2</th>\n",
       "      <td>PED_3</td>\n",
       "      <td>2018-01-01 08:39:08</td>\n",
       "      <td>Mismo dia entre 6:30 pm y 8:30 pm</td>\n",
       "      <td>2018-01-01</td>\n",
       "      <td>Afternoon</td>\n",
       "    </tr>\n",
       "    <tr>\n",
       "      <th>3</th>\n",
       "      <td>PED_4</td>\n",
       "      <td>2018-01-01 09:25:07</td>\n",
       "      <td>Siguiente dia entre 12:30 pm y 2:30 pm</td>\n",
       "      <td>2018-01-02</td>\n",
       "      <td>Morning</td>\n",
       "    </tr>\n",
       "    <tr>\n",
       "      <th>4</th>\n",
       "      <td>PED_5</td>\n",
       "      <td>2018-01-01 09:36:25</td>\n",
       "      <td>Siguiente dia entre 12:30 pm y 2:30 pm</td>\n",
       "      <td>2018-01-02</td>\n",
       "      <td>Morning</td>\n",
       "    </tr>\n",
       "  </tbody>\n",
       "</table>\n",
       "</div>"
      ],
      "text/plain": [
       "  OrderId         RequestTime                          DeliveryOption  \\\n",
       "0   PED_1 2018-01-01 08:03:12       Mismo dia entre 6:30 pm y 8:30 pm   \n",
       "1   PED_2 2018-01-01 08:28:55       Mismo dia entre 6:30 pm y 8:30 pm   \n",
       "2   PED_3 2018-01-01 08:39:08       Mismo dia entre 6:30 pm y 8:30 pm   \n",
       "3   PED_4 2018-01-01 09:25:07  Siguiente dia entre 12:30 pm y 2:30 pm   \n",
       "4   PED_5 2018-01-01 09:36:25  Siguiente dia entre 12:30 pm y 2:30 pm   \n",
       "\n",
       "  Delivery_Day enlisted_shift  \n",
       "0   2018-01-01      Afternoon  \n",
       "1   2018-01-01      Afternoon  \n",
       "2   2018-01-01      Afternoon  \n",
       "3   2018-01-02        Morning  \n",
       "4   2018-01-02        Morning  "
      ]
     },
     "execution_count": 11,
     "metadata": {},
     "output_type": "execute_result"
    }
   ],
   "source": [
    "df.head()"
   ]
  },
  {
   "cell_type": "markdown",
   "metadata": {},
   "source": [
    "With this process ready, now we can make a daily aggregation of all the orders."
   ]
  },
  {
   "cell_type": "code",
   "execution_count": 21,
   "metadata": {},
   "outputs": [],
   "source": [
    "table = pd.pivot_table(df, values='OrderId', index=['Delivery_Day'],\n",
    "                    columns=['enlisted_shift'], aggfunc=np.count_nonzero)\n",
    "table.fillna(0, inplace = True)\n",
    "table"
   ]
  },
  {
   "cell_type": "code",
   "execution_count": 23,
   "metadata": {},
   "outputs": [],
   "source": [
    "table['Total'] = table['Afternoon'] + table['Morning']"
   ]
  },
  {
   "cell_type": "code",
   "execution_count": 43,
   "metadata": {
    "scrolled": false
   },
   "outputs": [
    {
     "data": {
      "text/plain": [
       "array([<matplotlib.axes._subplots.AxesSubplot object at 0x000001C5469364A8>,\n",
       "       <matplotlib.axes._subplots.AxesSubplot object at 0x000001C546A90588>,\n",
       "       <matplotlib.axes._subplots.AxesSubplot object at 0x000001C546ABD9E8>],\n",
       "      dtype=object)"
      ]
     },
     "execution_count": 43,
     "metadata": {},
     "output_type": "execute_result"
    },
    {
     "data": {
      "image/png": "[encoded data removed]",
      "text/plain": [
       "<Figure size 1152x432 with 3 Axes>"
      ]
     },
     "metadata": {
      "needs_background": "light"
     },
     "output_type": "display_data"
    }
   ],
   "source": [
    "#visualize the behavior of the orders through time\n",
    "table[['Morning','Afternoon','Total']].plot(figsize= (16,6), subplots = True)"
   ]
  },
  {
   "cell_type": "markdown",
   "metadata": {},
   "source": [
    "We can see that that the orders shows an increasing trend and a seasonality with variable period. These traits will be helpful since they indicate that this features have a high autocorrelation coefficient, but just to be sure, let's make an autocorrelation plot."
   ]
  },
  {
   "cell_type": "code",
   "execution_count": 414,
   "metadata": {},
   "outputs": [],
   "source": [
    "from statsmodels.graphics.tsaplots import plot_acf, plot_pacf\n",
    "import matplotlib.pyplot as plt"
   ]
  },
  {
   "cell_type": "code",
   "execution_count": 416,
   "metadata": {},
   "outputs": [
    {
     "data": {
      "image/png": "[encoded data removed]",
      "text/plain": [
       "<Figure size 504x504 with 2 Axes>"
      ]
     },
     "metadata": {},
     "output_type": "display_data"
    }
   ],
   "source": [
    "fig, (ax1, ax2) = plt.subplots(nrows=2, ncols=1, sharex=False, sharey=False, figsize=(7,7))\n",
    "plot_acf(table['Total'], lags=78, alpha = 0.05, ax = ax1)\n",
    "plot_pacf(table['Total'], lags=78, alpha = 0.05, ax= ax2)\n",
    "fig.patch.set_facecolor('xkcd:white')\n",
    "plt.show()"
   ]
  },
  {
   "cell_type": "markdown",
   "metadata": {},
   "source": [
    "As guessed before with the previous illustration, the series has a high autocorrelation with the previous value (t - 1), and with other superiors orders also indicating seasonal effects (e.g. t -8, t-14, t -22, etc.). If we were to realize an pure statistical prediction we would need to make sure of transform the data to make the serie stationary (the mean and variance of the serie do not change with time) but we are not going to take that path."
   ]
  },
  {
   "cell_type": "code",
   "execution_count": 386,
   "metadata": {},
   "outputs": [],
   "source": [
    "#lets analize the historic distribution of the orders per shift\n",
    "table['Morning_%'] = table['Morning'] / table['Total']"
   ]
  },
  {
   "cell_type": "code",
   "execution_count": 47,
   "metadata": {},
   "outputs": [],
   "source": [
    "table['Afternoon_%'] = table['Afternoon'] / table['Total']"
   ]
  },
  {
   "cell_type": "code",
   "execution_count": 50,
   "metadata": {},
   "outputs": [
    {
     "data": {
      "text/plain": [
       "<matplotlib.axes._subplots.AxesSubplot at 0x1c54727fa58>"
      ]
     },
     "execution_count": 50,
     "metadata": {},
     "output_type": "execute_result"
    },
    {
     "data": {
      "image/png": "[encoded data removed]",
      "text/plain": [
       "<Figure size 1152x432 with 1 Axes>"
      ]
     },
     "metadata": {
      "needs_background": "light"
     },
     "output_type": "display_data"
    }
   ],
   "source": [
    "table[['Morning_%', 'Afternoon_%']].plot(figsize= (16,6))"
   ]
  },
  {
   "cell_type": "code",
   "execution_count": 402,
   "metadata": {},
   "outputs": [
    {
     "data": {
      "text/plain": [
       "Morning_%      0.444131\n",
       "Afternoon_%    0.555869\n",
       "dtype: float64"
      ]
     },
     "execution_count": 402,
     "metadata": {},
     "output_type": "execute_result"
    }
   ],
   "source": [
    "shifts = table[['Morning_%', 'Afternoon_%']].mean()\n",
    "shifts"
   ]
  },
  {
   "cell_type": "markdown",
   "metadata": {},
   "source": [
    "This analysis shows that the afternoon shift has a bigger load of work than the morning one, having the latter on average 44% of all the orders."
   ]
  },
  {
   "cell_type": "code",
   "execution_count": 26,
   "metadata": {},
   "outputs": [],
   "source": [
    "#adding year and month as a feature for the analysis\n",
    "table['year'] = table.index.values\n",
    "table['year'] = pd.to_datetime(table.year, format='%Y-%m-%d', errors='raise')\n",
    "table['year'] = table.year.dt.year\n",
    "                                \n",
    "table['month'] = table.index.values\n",
    "table['month'] = pd.to_datetime(table.month, format='%Y-%m-%d', errors='raise')\n",
    "table['month'] = table.month.dt.month"
   ]
  },
  {
   "cell_type": "code",
   "execution_count": 27,
   "metadata": {},
   "outputs": [
    {
     "data": {
      "text/html": [
       "<div>\n",
       "<style scoped>\n",
       "    .dataframe tbody tr th:only-of-type {\n",
       "        vertical-align: middle;\n",
       "    }\n",
       "\n",
       "    .dataframe tbody tr th {\n",
       "        vertical-align: top;\n",
       "    }\n",
       "\n",
       "    .dataframe thead th {\n",
       "        text-align: right;\n",
       "    }\n",
       "</style>\n",
       "<table border=\"1\" class=\"dataframe\">\n",
       "  <thead>\n",
       "    <tr style=\"text-align: right;\">\n",
       "      <th>enlisted_shift</th>\n",
       "      <th>Afternoon</th>\n",
       "      <th>Morning</th>\n",
       "      <th>Total</th>\n",
       "      <th>Op_shift2</th>\n",
       "      <th>Op_shift1</th>\n",
       "      <th>Op_Total</th>\n",
       "      <th>year</th>\n",
       "      <th>month</th>\n",
       "    </tr>\n",
       "    <tr>\n",
       "      <th>Delivery_Day</th>\n",
       "      <th></th>\n",
       "      <th></th>\n",
       "      <th></th>\n",
       "      <th></th>\n",
       "      <th></th>\n",
       "      <th></th>\n",
       "      <th></th>\n",
       "      <th></th>\n",
       "    </tr>\n",
       "  </thead>\n",
       "  <tbody>\n",
       "    <tr>\n",
       "      <th>2018-01-01</th>\n",
       "      <td>8.0</td>\n",
       "      <td>0.0</td>\n",
       "      <td>8.0</td>\n",
       "      <td>1</td>\n",
       "      <td>0</td>\n",
       "      <td>1</td>\n",
       "      <td>2018</td>\n",
       "      <td>1</td>\n",
       "    </tr>\n",
       "    <tr>\n",
       "      <th>2018-01-02</th>\n",
       "      <td>7.0</td>\n",
       "      <td>10.0</td>\n",
       "      <td>17.0</td>\n",
       "      <td>1</td>\n",
       "      <td>2</td>\n",
       "      <td>3</td>\n",
       "      <td>2018</td>\n",
       "      <td>1</td>\n",
       "    </tr>\n",
       "    <tr>\n",
       "      <th>2018-01-03</th>\n",
       "      <td>8.0</td>\n",
       "      <td>12.0</td>\n",
       "      <td>20.0</td>\n",
       "      <td>1</td>\n",
       "      <td>2</td>\n",
       "      <td>4</td>\n",
       "      <td>2018</td>\n",
       "      <td>1</td>\n",
       "    </tr>\n",
       "    <tr>\n",
       "      <th>2018-01-04</th>\n",
       "      <td>9.0</td>\n",
       "      <td>12.0</td>\n",
       "      <td>21.0</td>\n",
       "      <td>1</td>\n",
       "      <td>2</td>\n",
       "      <td>4</td>\n",
       "      <td>2018</td>\n",
       "      <td>1</td>\n",
       "    </tr>\n",
       "    <tr>\n",
       "      <th>2018-01-05</th>\n",
       "      <td>9.0</td>\n",
       "      <td>10.0</td>\n",
       "      <td>19.0</td>\n",
       "      <td>1</td>\n",
       "      <td>2</td>\n",
       "      <td>3</td>\n",
       "      <td>2018</td>\n",
       "      <td>1</td>\n",
       "    </tr>\n",
       "    <tr>\n",
       "      <th>...</th>\n",
       "      <td>...</td>\n",
       "      <td>...</td>\n",
       "      <td>...</td>\n",
       "      <td>...</td>\n",
       "      <td>...</td>\n",
       "      <td>...</td>\n",
       "      <td>...</td>\n",
       "      <td>...</td>\n",
       "    </tr>\n",
       "    <tr>\n",
       "      <th>2021-02-25</th>\n",
       "      <td>91.0</td>\n",
       "      <td>82.0</td>\n",
       "      <td>173.0</td>\n",
       "      <td>18</td>\n",
       "      <td>16</td>\n",
       "      <td>34</td>\n",
       "      <td>2021</td>\n",
       "      <td>2</td>\n",
       "    </tr>\n",
       "    <tr>\n",
       "      <th>2021-02-26</th>\n",
       "      <td>118.0</td>\n",
       "      <td>70.0</td>\n",
       "      <td>188.0</td>\n",
       "      <td>23</td>\n",
       "      <td>14</td>\n",
       "      <td>37</td>\n",
       "      <td>2021</td>\n",
       "      <td>2</td>\n",
       "    </tr>\n",
       "    <tr>\n",
       "      <th>2021-02-27</th>\n",
       "      <td>162.0</td>\n",
       "      <td>98.0</td>\n",
       "      <td>260.0</td>\n",
       "      <td>32</td>\n",
       "      <td>19</td>\n",
       "      <td>52</td>\n",
       "      <td>2021</td>\n",
       "      <td>2</td>\n",
       "    </tr>\n",
       "    <tr>\n",
       "      <th>2021-02-28</th>\n",
       "      <td>173.0</td>\n",
       "      <td>153.0</td>\n",
       "      <td>326.0</td>\n",
       "      <td>34</td>\n",
       "      <td>30</td>\n",
       "      <td>65</td>\n",
       "      <td>2021</td>\n",
       "      <td>2</td>\n",
       "    </tr>\n",
       "    <tr>\n",
       "      <th>2021-03-01</th>\n",
       "      <td>0.0</td>\n",
       "      <td>102.0</td>\n",
       "      <td>102.0</td>\n",
       "      <td>0</td>\n",
       "      <td>20</td>\n",
       "      <td>20</td>\n",
       "      <td>2021</td>\n",
       "      <td>3</td>\n",
       "    </tr>\n",
       "  </tbody>\n",
       "</table>\n",
       "<p>1156 rows × 8 columns</p>\n",
       "</div>"
      ],
      "text/plain": [
       "enlisted_shift  Afternoon  Morning  Total  Op_shift2  Op_shift1  Op_Total  \\\n",
       "Delivery_Day                                                                \n",
       "2018-01-01            8.0      0.0    8.0          1          0         1   \n",
       "2018-01-02            7.0     10.0   17.0          1          2         3   \n",
       "2018-01-03            8.0     12.0   20.0          1          2         4   \n",
       "2018-01-04            9.0     12.0   21.0          1          2         4   \n",
       "2018-01-05            9.0     10.0   19.0          1          2         3   \n",
       "...                   ...      ...    ...        ...        ...       ...   \n",
       "2021-02-25           91.0     82.0  173.0         18         16        34   \n",
       "2021-02-26          118.0     70.0  188.0         23         14        37   \n",
       "2021-02-27          162.0     98.0  260.0         32         19        52   \n",
       "2021-02-28          173.0    153.0  326.0         34         30        65   \n",
       "2021-03-01            0.0    102.0  102.0          0         20        20   \n",
       "\n",
       "enlisted_shift  year  month  \n",
       "Delivery_Day                 \n",
       "2018-01-01      2018      1  \n",
       "2018-01-02      2018      1  \n",
       "2018-01-03      2018      1  \n",
       "2018-01-04      2018      1  \n",
       "2018-01-05      2018      1  \n",
       "...              ...    ...  \n",
       "2021-02-25      2021      2  \n",
       "2021-02-26      2021      2  \n",
       "2021-02-27      2021      2  \n",
       "2021-02-28      2021      2  \n",
       "2021-03-01      2021      3  \n",
       "\n",
       "[1156 rows x 8 columns]"
      ]
     },
     "execution_count": 27,
     "metadata": {},
     "output_type": "execute_result"
    }
   ],
   "source": [
    "table"
   ]
  },
  {
   "cell_type": "markdown",
   "metadata": {},
   "source": [
    "### Affectedness level by COVID-19"
   ]
  },
  {
   "cell_type": "code",
   "execution_count": 60,
   "metadata": {},
   "outputs": [
    {
     "data": {
      "text/html": [
       "<div>\n",
       "<style scoped>\n",
       "    .dataframe tbody tr th:only-of-type {\n",
       "        vertical-align: middle;\n",
       "    }\n",
       "\n",
       "    .dataframe tbody tr th {\n",
       "        vertical-align: top;\n",
       "    }\n",
       "\n",
       "    .dataframe thead th {\n",
       "        text-align: right;\n",
       "    }\n",
       "</style>\n",
       "<table border=\"1\" class=\"dataframe\">\n",
       "  <thead>\n",
       "    <tr style=\"text-align: right;\">\n",
       "      <th></th>\n",
       "      <th>date</th>\n",
       "      <th>affectednes</th>\n",
       "      <th>year</th>\n",
       "      <th>month</th>\n",
       "    </tr>\n",
       "  </thead>\n",
       "  <tbody>\n",
       "    <tr>\n",
       "      <th>0</th>\n",
       "      <td>2020-03-01</td>\n",
       "      <td>3</td>\n",
       "      <td>2020</td>\n",
       "      <td>3</td>\n",
       "    </tr>\n",
       "    <tr>\n",
       "      <th>1</th>\n",
       "      <td>2020-04-01</td>\n",
       "      <td>3</td>\n",
       "      <td>2020</td>\n",
       "      <td>4</td>\n",
       "    </tr>\n",
       "    <tr>\n",
       "      <th>2</th>\n",
       "      <td>2020-05-01</td>\n",
       "      <td>1</td>\n",
       "      <td>2020</td>\n",
       "      <td>5</td>\n",
       "    </tr>\n",
       "    <tr>\n",
       "      <th>3</th>\n",
       "      <td>2020-06-01</td>\n",
       "      <td>1</td>\n",
       "      <td>2020</td>\n",
       "      <td>6</td>\n",
       "    </tr>\n",
       "    <tr>\n",
       "      <th>4</th>\n",
       "      <td>2020-07-01</td>\n",
       "      <td>1</td>\n",
       "      <td>2020</td>\n",
       "      <td>7</td>\n",
       "    </tr>\n",
       "    <tr>\n",
       "      <th>5</th>\n",
       "      <td>2020-08-01</td>\n",
       "      <td>2</td>\n",
       "      <td>2020</td>\n",
       "      <td>8</td>\n",
       "    </tr>\n",
       "    <tr>\n",
       "      <th>6</th>\n",
       "      <td>2020-09-01</td>\n",
       "      <td>2</td>\n",
       "      <td>2020</td>\n",
       "      <td>9</td>\n",
       "    </tr>\n",
       "    <tr>\n",
       "      <th>7</th>\n",
       "      <td>2020-10-01</td>\n",
       "      <td>1</td>\n",
       "      <td>2020</td>\n",
       "      <td>10</td>\n",
       "    </tr>\n",
       "    <tr>\n",
       "      <th>8</th>\n",
       "      <td>2020-11-01</td>\n",
       "      <td>1</td>\n",
       "      <td>2020</td>\n",
       "      <td>11</td>\n",
       "    </tr>\n",
       "    <tr>\n",
       "      <th>9</th>\n",
       "      <td>2020-12-01</td>\n",
       "      <td>2</td>\n",
       "      <td>2020</td>\n",
       "      <td>12</td>\n",
       "    </tr>\n",
       "    <tr>\n",
       "      <th>10</th>\n",
       "      <td>2021-01-01</td>\n",
       "      <td>2</td>\n",
       "      <td>2021</td>\n",
       "      <td>1</td>\n",
       "    </tr>\n",
       "    <tr>\n",
       "      <th>11</th>\n",
       "      <td>2021-02-01</td>\n",
       "      <td>1</td>\n",
       "      <td>2021</td>\n",
       "      <td>2</td>\n",
       "    </tr>\n",
       "  </tbody>\n",
       "</table>\n",
       "</div>"
      ],
      "text/plain": [
       "         date  affectednes  year  month\n",
       "0  2020-03-01            3  2020      3\n",
       "1  2020-04-01            3  2020      4\n",
       "2  2020-05-01            1  2020      5\n",
       "3  2020-06-01            1  2020      6\n",
       "4  2020-07-01            1  2020      7\n",
       "5  2020-08-01            2  2020      8\n",
       "6  2020-09-01            2  2020      9\n",
       "7  2020-10-01            1  2020     10\n",
       "8  2020-11-01            1  2020     11\n",
       "9  2020-12-01            2  2020     12\n",
       "10 2021-01-01            2  2021      1\n",
       "11 2021-02-01            1  2021      2"
      ]
     },
     "execution_count": 60,
     "metadata": {},
     "output_type": "execute_result"
    }
   ],
   "source": [
    "## building data of affectednessof sales by COVID-19\n",
    "# for the month prior to COVID-19 the impact is zero\n",
    "impact = {'2020-03-01':3,'2020-04-01':3,'2020-05-01':1,'2020-06-01':1,\n",
    "'2020-07-01':1,'2020-08-01':2,'2020-09-01':2,'2020-10-01':1,\n",
    "'2020-11-01':1,'2020-12-01':2,'2021-01-01':2,'2021-02-01':1}\n",
    "impact = pd.DataFrame(impact.items(), columns=['date', 'affectednes'])\n",
    "impact.date = pd.to_datetime(impact.date, format='%Y-%m-%d', errors='raise')\n",
    "impact['year'] = impact.date.dt.year\n",
    "impact['month'] = impact.date.dt.month\n",
    "impact"
   ]
  },
  {
   "cell_type": "code",
   "execution_count": 68,
   "metadata": {},
   "outputs": [
    {
     "data": {
      "text/html": [
       "<div>\n",
       "<style scoped>\n",
       "    .dataframe tbody tr th:only-of-type {\n",
       "        vertical-align: middle;\n",
       "    }\n",
       "\n",
       "    .dataframe tbody tr th {\n",
       "        vertical-align: top;\n",
       "    }\n",
       "\n",
       "    .dataframe thead th {\n",
       "        text-align: right;\n",
       "    }\n",
       "</style>\n",
       "<table border=\"1\" class=\"dataframe\">\n",
       "  <thead>\n",
       "    <tr style=\"text-align: right;\">\n",
       "      <th></th>\n",
       "      <th>Afternoon</th>\n",
       "      <th>Morning</th>\n",
       "      <th>Total</th>\n",
       "      <th>Op_shift2</th>\n",
       "      <th>Op_shift1</th>\n",
       "      <th>Op_Total</th>\n",
       "      <th>year</th>\n",
       "      <th>month</th>\n",
       "      <th>Morning_%</th>\n",
       "      <th>Afternoon_%</th>\n",
       "      <th>affectednes</th>\n",
       "    </tr>\n",
       "  </thead>\n",
       "  <tbody>\n",
       "    <tr>\n",
       "      <th>0</th>\n",
       "      <td>8.0</td>\n",
       "      <td>0.0</td>\n",
       "      <td>8.0</td>\n",
       "      <td>1</td>\n",
       "      <td>0</td>\n",
       "      <td>1</td>\n",
       "      <td>2018</td>\n",
       "      <td>1</td>\n",
       "      <td>0.000000</td>\n",
       "      <td>1.000000</td>\n",
       "      <td>0.0</td>\n",
       "    </tr>\n",
       "    <tr>\n",
       "      <th>1</th>\n",
       "      <td>7.0</td>\n",
       "      <td>10.0</td>\n",
       "      <td>17.0</td>\n",
       "      <td>1</td>\n",
       "      <td>2</td>\n",
       "      <td>3</td>\n",
       "      <td>2018</td>\n",
       "      <td>1</td>\n",
       "      <td>0.588235</td>\n",
       "      <td>0.411765</td>\n",
       "      <td>0.0</td>\n",
       "    </tr>\n",
       "    <tr>\n",
       "      <th>2</th>\n",
       "      <td>8.0</td>\n",
       "      <td>12.0</td>\n",
       "      <td>20.0</td>\n",
       "      <td>1</td>\n",
       "      <td>2</td>\n",
       "      <td>4</td>\n",
       "      <td>2018</td>\n",
       "      <td>1</td>\n",
       "      <td>0.600000</td>\n",
       "      <td>0.400000</td>\n",
       "      <td>0.0</td>\n",
       "    </tr>\n",
       "    <tr>\n",
       "      <th>3</th>\n",
       "      <td>9.0</td>\n",
       "      <td>12.0</td>\n",
       "      <td>21.0</td>\n",
       "      <td>1</td>\n",
       "      <td>2</td>\n",
       "      <td>4</td>\n",
       "      <td>2018</td>\n",
       "      <td>1</td>\n",
       "      <td>0.571429</td>\n",
       "      <td>0.428571</td>\n",
       "      <td>0.0</td>\n",
       "    </tr>\n",
       "    <tr>\n",
       "      <th>4</th>\n",
       "      <td>9.0</td>\n",
       "      <td>10.0</td>\n",
       "      <td>19.0</td>\n",
       "      <td>1</td>\n",
       "      <td>2</td>\n",
       "      <td>3</td>\n",
       "      <td>2018</td>\n",
       "      <td>1</td>\n",
       "      <td>0.526316</td>\n",
       "      <td>0.473684</td>\n",
       "      <td>0.0</td>\n",
       "    </tr>\n",
       "    <tr>\n",
       "      <th>...</th>\n",
       "      <td>...</td>\n",
       "      <td>...</td>\n",
       "      <td>...</td>\n",
       "      <td>...</td>\n",
       "      <td>...</td>\n",
       "      <td>...</td>\n",
       "      <td>...</td>\n",
       "      <td>...</td>\n",
       "      <td>...</td>\n",
       "      <td>...</td>\n",
       "      <td>...</td>\n",
       "    </tr>\n",
       "    <tr>\n",
       "      <th>1151</th>\n",
       "      <td>91.0</td>\n",
       "      <td>82.0</td>\n",
       "      <td>173.0</td>\n",
       "      <td>18</td>\n",
       "      <td>16</td>\n",
       "      <td>34</td>\n",
       "      <td>2021</td>\n",
       "      <td>2</td>\n",
       "      <td>0.473988</td>\n",
       "      <td>0.526012</td>\n",
       "      <td>1.0</td>\n",
       "    </tr>\n",
       "    <tr>\n",
       "      <th>1152</th>\n",
       "      <td>118.0</td>\n",
       "      <td>70.0</td>\n",
       "      <td>188.0</td>\n",
       "      <td>23</td>\n",
       "      <td>14</td>\n",
       "      <td>37</td>\n",
       "      <td>2021</td>\n",
       "      <td>2</td>\n",
       "      <td>0.372340</td>\n",
       "      <td>0.627660</td>\n",
       "      <td>1.0</td>\n",
       "    </tr>\n",
       "    <tr>\n",
       "      <th>1153</th>\n",
       "      <td>162.0</td>\n",
       "      <td>98.0</td>\n",
       "      <td>260.0</td>\n",
       "      <td>32</td>\n",
       "      <td>19</td>\n",
       "      <td>52</td>\n",
       "      <td>2021</td>\n",
       "      <td>2</td>\n",
       "      <td>0.376923</td>\n",
       "      <td>0.623077</td>\n",
       "      <td>1.0</td>\n",
       "    </tr>\n",
       "    <tr>\n",
       "      <th>1154</th>\n",
       "      <td>173.0</td>\n",
       "      <td>153.0</td>\n",
       "      <td>326.0</td>\n",
       "      <td>34</td>\n",
       "      <td>30</td>\n",
       "      <td>65</td>\n",
       "      <td>2021</td>\n",
       "      <td>2</td>\n",
       "      <td>0.469325</td>\n",
       "      <td>0.530675</td>\n",
       "      <td>1.0</td>\n",
       "    </tr>\n",
       "    <tr>\n",
       "      <th>1155</th>\n",
       "      <td>0.0</td>\n",
       "      <td>102.0</td>\n",
       "      <td>102.0</td>\n",
       "      <td>0</td>\n",
       "      <td>20</td>\n",
       "      <td>20</td>\n",
       "      <td>2021</td>\n",
       "      <td>3</td>\n",
       "      <td>1.000000</td>\n",
       "      <td>0.000000</td>\n",
       "      <td>0.0</td>\n",
       "    </tr>\n",
       "  </tbody>\n",
       "</table>\n",
       "<p>1156 rows × 11 columns</p>\n",
       "</div>"
      ],
      "text/plain": [
       "      Afternoon  Morning  Total  Op_shift2  Op_shift1  Op_Total  year  month  \\\n",
       "0           8.0      0.0    8.0          1          0         1  2018      1   \n",
       "1           7.0     10.0   17.0          1          2         3  2018      1   \n",
       "2           8.0     12.0   20.0          1          2         4  2018      1   \n",
       "3           9.0     12.0   21.0          1          2         4  2018      1   \n",
       "4           9.0     10.0   19.0          1          2         3  2018      1   \n",
       "...         ...      ...    ...        ...        ...       ...   ...    ...   \n",
       "1151       91.0     82.0  173.0         18         16        34  2021      2   \n",
       "1152      118.0     70.0  188.0         23         14        37  2021      2   \n",
       "1153      162.0     98.0  260.0         32         19        52  2021      2   \n",
       "1154      173.0    153.0  326.0         34         30        65  2021      2   \n",
       "1155        0.0    102.0  102.0          0         20        20  2021      3   \n",
       "\n",
       "      Morning_%  Afternoon_%  affectednes  \n",
       "0      0.000000     1.000000          0.0  \n",
       "1      0.588235     0.411765          0.0  \n",
       "2      0.600000     0.400000          0.0  \n",
       "3      0.571429     0.428571          0.0  \n",
       "4      0.526316     0.473684          0.0  \n",
       "...         ...          ...          ...  \n",
       "1151   0.473988     0.526012          1.0  \n",
       "1152   0.372340     0.627660          1.0  \n",
       "1153   0.376923     0.623077          1.0  \n",
       "1154   0.469325     0.530675          1.0  \n",
       "1155   1.000000     0.000000          0.0  \n",
       "\n",
       "[1156 rows x 11 columns]"
      ]
     },
     "execution_count": 68,
     "metadata": {},
     "output_type": "execute_result"
    }
   ],
   "source": [
    "# adding level of affectedness of sales by COVID-19 as a feature\n",
    "\n",
    "table = table.merge(impact[['affectednes','year','month']], how='left', on=['year','month'])\n",
    "table.affectednes.fillna(0, inplace= True)\n",
    "table.shape"
   ]
  },
  {
   "cell_type": "markdown",
   "metadata": {},
   "source": [
    "## Predicting Sales with Linear Regression"
   ]
  },
  {
   "cell_type": "markdown",
   "metadata": {},
   "source": [
    "Given the behavior shown by the data and the size of the dataset we consider that a Linear Regression Model will have an adecuate perfomance for the required task"
   ]
  },
  {
   "cell_type": "markdown",
   "metadata": {},
   "source": [
    "### Feature to Predict\n",
    "we are not using the mean of the series as the final feature to predict but the mean plus 2 times the stardard deviation, this is in order to increase the coverage of the many days with higher demand."
   ]
  },
  {
   "cell_type": "code",
   "execution_count": 380,
   "metadata": {},
   "outputs": [
    {
     "data": {
      "text/html": [
       "<div>\n",
       "<style scoped>\n",
       "    .dataframe tbody tr th:only-of-type {\n",
       "        vertical-align: middle;\n",
       "    }\n",
       "\n",
       "    .dataframe tbody tr th {\n",
       "        vertical-align: top;\n",
       "    }\n",
       "\n",
       "    .dataframe thead th {\n",
       "        text-align: right;\n",
       "    }\n",
       "</style>\n",
       "<table border=\"1\" class=\"dataframe\">\n",
       "  <thead>\n",
       "    <tr style=\"text-align: right;\">\n",
       "      <th></th>\n",
       "      <th>year</th>\n",
       "      <th>month</th>\n",
       "      <th>affectednes</th>\n",
       "      <th>estimated_sales</th>\n",
       "    </tr>\n",
       "  </thead>\n",
       "  <tbody>\n",
       "    <tr>\n",
       "      <th>0</th>\n",
       "      <td>2018</td>\n",
       "      <td>1</td>\n",
       "      <td>0.0</td>\n",
       "      <td>40.881951</td>\n",
       "    </tr>\n",
       "    <tr>\n",
       "      <th>1</th>\n",
       "      <td>2018</td>\n",
       "      <td>2</td>\n",
       "      <td>0.0</td>\n",
       "      <td>38.169228</td>\n",
       "    </tr>\n",
       "    <tr>\n",
       "      <th>2</th>\n",
       "      <td>2018</td>\n",
       "      <td>3</td>\n",
       "      <td>0.0</td>\n",
       "      <td>44.484341</td>\n",
       "    </tr>\n",
       "    <tr>\n",
       "      <th>3</th>\n",
       "      <td>2018</td>\n",
       "      <td>4</td>\n",
       "      <td>0.0</td>\n",
       "      <td>54.038810</td>\n",
       "    </tr>\n",
       "    <tr>\n",
       "      <th>4</th>\n",
       "      <td>2018</td>\n",
       "      <td>5</td>\n",
       "      <td>0.0</td>\n",
       "      <td>61.845634</td>\n",
       "    </tr>\n",
       "  </tbody>\n",
       "</table>\n",
       "</div>"
      ],
      "text/plain": [
       "   year  month  affectednes  estimated_sales\n",
       "0  2018      1          0.0        40.881951\n",
       "1  2018      2          0.0        38.169228\n",
       "2  2018      3          0.0        44.484341\n",
       "3  2018      4          0.0        54.038810\n",
       "4  2018      5          0.0        61.845634"
      ]
     },
     "execution_count": 380,
     "metadata": {},
     "output_type": "execute_result"
    }
   ],
   "source": [
    "# building final Dataset for Prediction\n",
    "data = table.groupby(['year', 'month']).agg({'Total': ['mean', 'std']})\n",
    "data.reset_index(level=['year', 'month'], inplace= True)\n",
    "data.columns = ['year', 'month', 'mean', 'std']\n",
    "data = data.merge(impact[['affectednes','year','month']], how='left', on=['year','month'])\n",
    "data.affectednes.fillna(0, inplace= True)\n",
    "data['estimated_sales'] = data['mean'] + data['std'] * 2\n",
    "data.drop(['mean', 'std'], axis=1, inplace = True)\n",
    "data.fillna(0, inplace=True)\n",
    "data.head()"
   ]
  },
  {
   "cell_type": "markdown",
   "metadata": {},
   "source": [
    "Since we saw a high autocorrelation in the data of sales in previous analysis, adding as a feature the sales of the last month will help us not to lose this information in the training process."
   ]
  },
  {
   "cell_type": "code",
   "execution_count": 362,
   "metadata": {},
   "outputs": [
    {
     "data": {
      "text/html": [
       "<div>\n",
       "<style scoped>\n",
       "    .dataframe tbody tr th:only-of-type {\n",
       "        vertical-align: middle;\n",
       "    }\n",
       "\n",
       "    .dataframe tbody tr th {\n",
       "        vertical-align: top;\n",
       "    }\n",
       "\n",
       "    .dataframe thead th {\n",
       "        text-align: right;\n",
       "    }\n",
       "</style>\n",
       "<table border=\"1\" class=\"dataframe\">\n",
       "  <thead>\n",
       "    <tr style=\"text-align: right;\">\n",
       "      <th></th>\n",
       "      <th>year</th>\n",
       "      <th>month</th>\n",
       "      <th>affectednes</th>\n",
       "      <th>estimated_sales</th>\n",
       "      <th>last_month_sales</th>\n",
       "    </tr>\n",
       "  </thead>\n",
       "  <tbody>\n",
       "    <tr>\n",
       "      <th>0</th>\n",
       "      <td>2018</td>\n",
       "      <td>2</td>\n",
       "      <td>0.0</td>\n",
       "      <td>38.169228</td>\n",
       "      <td>40.881951</td>\n",
       "    </tr>\n",
       "    <tr>\n",
       "      <th>1</th>\n",
       "      <td>2018</td>\n",
       "      <td>3</td>\n",
       "      <td>0.0</td>\n",
       "      <td>44.484341</td>\n",
       "      <td>38.169228</td>\n",
       "    </tr>\n",
       "    <tr>\n",
       "      <th>2</th>\n",
       "      <td>2018</td>\n",
       "      <td>4</td>\n",
       "      <td>0.0</td>\n",
       "      <td>54.038810</td>\n",
       "      <td>44.484341</td>\n",
       "    </tr>\n",
       "    <tr>\n",
       "      <th>3</th>\n",
       "      <td>2018</td>\n",
       "      <td>5</td>\n",
       "      <td>0.0</td>\n",
       "      <td>61.845634</td>\n",
       "      <td>54.038810</td>\n",
       "    </tr>\n",
       "    <tr>\n",
       "      <th>4</th>\n",
       "      <td>2018</td>\n",
       "      <td>6</td>\n",
       "      <td>0.0</td>\n",
       "      <td>87.563301</td>\n",
       "      <td>61.845634</td>\n",
       "    </tr>\n",
       "  </tbody>\n",
       "</table>\n",
       "</div>"
      ],
      "text/plain": [
       "   year  month  affectednes  estimated_sales  last_month_sales\n",
       "0  2018      2          0.0        38.169228         40.881951\n",
       "1  2018      3          0.0        44.484341         38.169228\n",
       "2  2018      4          0.0        54.038810         44.484341\n",
       "3  2018      5          0.0        61.845634         54.038810\n",
       "4  2018      6          0.0        87.563301         61.845634"
      ]
     },
     "execution_count": 362,
     "metadata": {},
     "output_type": "execute_result"
    }
   ],
   "source": [
    "data['last_month_sales'] = data['estimated_sales'].diff()\n",
    "data['last_month_sales'] = data['estimated_sales'] - data['last_month_sales']\n",
    "data.dropna(axis=0, inplace=True)\n",
    "data.reset_index(drop=True,inplace=True)\n",
    "data.shape"
   ]
  },
  {
   "cell_type": "code",
   "execution_count": 198,
   "metadata": {},
   "outputs": [],
   "source": [
    "# importing Libraries\n",
    "from sklearn.linear_model import LinearRegression\n",
    "from sklearn.model_selection import train_test_split\n",
    "from sklearn.metrics import mean_squared_error\n",
    "from sklearn.model_selection import cross_val_score, KFold\n",
    "from sklearn.preprocessing import OneHotEncoder"
   ]
  },
  {
   "cell_type": "code",
   "execution_count": 226,
   "metadata": {},
   "outputs": [],
   "source": [
    "# defining custom function to estimate some regression metrics on the model\n",
    "def custom_metrics(true, pred):\n",
    "    df = pd.DataFrame(true)\n",
    "    df.reset_index(inplace=True, drop=True)\n",
    "    df.columns = ['true']\n",
    "    n=df.shape[0]\n",
    "    mean = df.true.mean()\n",
    "\n",
    "    df['pred'] = pred\n",
    "    #1\n",
    "    df['abs_error'] = np.abs(df.true-df.pred)\n",
    "    df['p_abs_error'] = df['abs_error']/df.true\n",
    "    #2\n",
    "    df['sqrt_error'] = np.power(df.true-df.pred,2)\n",
    "    #3\n",
    "    df['sqrt_std_error'] = np.power(df.true-mean,2)\n",
    "    #4\n",
    "    df['pred_sqrt_diff'] = np.power(df.pred.diff(),2)\n",
    "    #5\n",
    "    df['CID'] = df.true.diff() * df.pred.diff()\n",
    "    df['CID'] = [1 if x>0 else 0 for x in df.CID ]\n",
    "    #7\n",
    "    df['IA'] = np.power(df['abs_error'] + np.abs(df.true-mean),2)\n",
    "\n",
    "    MAE = df['abs_error'].sum()/n\n",
    "    MAPE = df['p_abs_error'].sum()/n\n",
    "    RMSE = np.sqrt(df['sqrt_error'].sum()/n)\n",
    "    R2 = 1 - df.sqrt_error.sum()/df.sqrt_std_error.sum()\n",
    "    theil_u = df.sqrt_error.iloc[1:].sum()/df.pred_sqrt_diff.iloc[1:].sum()\n",
    "    POCID = 100 * df.CID.sum()/n\n",
    "    ARV = (df.sqrt_error.sum()/df.sqrt_std_error.sum())/n\n",
    "    IA = df.sqrt_error.sum()/df.IA.sum()\n",
    "\n",
    "    indicators= {'MAE': MAE, 'MAPE': MAPE, 'RMSE': RMSE, 'R2': R2, 'theil_u':theil_u, 'POCID': POCID, 'ARV': ARV, 'IA':IA }\n",
    "    ind = pd.DataFrame(indicators.values(), index= indicators.keys())\n",
    "    ind.columns = ['Metrics']\n",
    "    return ind"
   ]
  },
  {
   "cell_type": "code",
   "execution_count": 363,
   "metadata": {},
   "outputs": [
    {
     "data": {
      "text/html": [
       "<div>\n",
       "<style scoped>\n",
       "    .dataframe tbody tr th:only-of-type {\n",
       "        vertical-align: middle;\n",
       "    }\n",
       "\n",
       "    .dataframe tbody tr th {\n",
       "        vertical-align: top;\n",
       "    }\n",
       "\n",
       "    .dataframe thead th {\n",
       "        text-align: right;\n",
       "    }\n",
       "</style>\n",
       "<table border=\"1\" class=\"dataframe\">\n",
       "  <thead>\n",
       "    <tr style=\"text-align: right;\">\n",
       "      <th></th>\n",
       "      <th>year</th>\n",
       "      <th>month</th>\n",
       "      <th>affectednes</th>\n",
       "      <th>last_month_sales</th>\n",
       "    </tr>\n",
       "  </thead>\n",
       "  <tbody>\n",
       "    <tr>\n",
       "      <th>0</th>\n",
       "      <td>2021</td>\n",
       "      <td>3</td>\n",
       "      <td>0.0</td>\n",
       "      <td>311.317074</td>\n",
       "    </tr>\n",
       "  </tbody>\n",
       "</table>\n",
       "</div>"
      ],
      "text/plain": [
       "   year  month  affectednes  last_month_sales\n",
       "0  2021      3          0.0        311.317074"
      ]
     },
     "execution_count": 363,
     "metadata": {},
     "output_type": "execute_result"
    }
   ],
   "source": [
    "# getting apart the period to predict (March-2021)\n",
    "validation = data[(data.iloc[:,0] == 2021) &  (data.iloc[:,1] == 3)].copy()\n",
    "validation.reset_index(inplace= True, drop = True)\n",
    "validation = validation.drop('estimated_sales' ,axis=1)\n",
    "validation"
   ]
  },
  {
   "cell_type": "code",
   "execution_count": 364,
   "metadata": {},
   "outputs": [],
   "source": [
    "#getting dummies for the categorical variables in the data\n",
    "enc_a = OneHotEncoder(handle_unknown='ignore')\n",
    "enc_a = OneHotEncoder(sparse=False)\n",
    "\n",
    "enc_y = OneHotEncoder(handle_unknown='ignore')\n",
    "enc_y = OneHotEncoder(sparse=False)\n",
    "\n",
    "enc_m = OneHotEncoder(handle_unknown='ignore')\n",
    "enc_m = OneHotEncoder(sparse=False)"
   ]
  },
  {
   "cell_type": "code",
   "execution_count": 365,
   "metadata": {},
   "outputs": [],
   "source": [
    "dummies_a = pd.DataFrame(enc_a.fit_transform(np.array(data.affectednes).reshape(-1, 1)))\n",
    "dummies_y = pd.DataFrame(enc_y.fit_transform(np.array(data.year).reshape(-1, 1)))\n",
    "dummies_m = pd.DataFrame(enc_m.fit_transform(np.array(data.month).reshape(-1, 1)))"
   ]
  },
  {
   "cell_type": "code",
   "execution_count": 366,
   "metadata": {
    "scrolled": true
   },
   "outputs": [
    {
     "data": {
      "text/plain": [
       "(38, 25)"
      ]
     },
     "execution_count": 366,
     "metadata": {},
     "output_type": "execute_result"
    }
   ],
   "source": [
    "data = pd.concat([data,dummies_y], axis =1)\n",
    "data = pd.concat([data,dummies_m], axis =1)\n",
    "data = pd.concat([data,dummies_a], axis =1)\n",
    "data.shape"
   ]
  },
  {
   "cell_type": "code",
   "execution_count": 367,
   "metadata": {},
   "outputs": [],
   "source": [
    "#data without the period to predict\n",
    "data = data[~((data.iloc[:,0] == 2021) & (data.iloc[:,1] == 3))].copy()\n",
    "data.drop(['year','month', 'affectednes'], axis =1, inplace =True)"
   ]
  },
  {
   "cell_type": "code",
   "execution_count": 368,
   "metadata": {},
   "outputs": [],
   "source": [
    "y = data.pop('estimated_sales')\n",
    "X = data"
   ]
  },
  {
   "cell_type": "markdown",
   "metadata": {},
   "source": [
    "### Training Model"
   ]
  },
  {
   "cell_type": "code",
   "execution_count": 370,
   "metadata": {},
   "outputs": [],
   "source": [
    "X_train, X_test, y_train, y_test = train_test_split(X, y, test_size=0.33, random_state=13)"
   ]
  },
  {
   "cell_type": "code",
   "execution_count": 396,
   "metadata": {},
   "outputs": [
    {
     "data": {
      "text/plain": [
       "array([48.49642534, 26.98302425,  4.45555369, 27.80389815, 50.11127865,\n",
       "       18.62358928, 57.31076337, 24.51824738, 63.47340787, 56.16022835])"
      ]
     },
     "execution_count": 396,
     "metadata": {},
     "output_type": "execute_result"
    }
   ],
   "source": [
    "folds = KFold(n_splits = 10, shuffle = True, random_state = 13)\n",
    "scores = cross_val_score(regressor, X_train, y_train, scoring='neg_root_mean_squared_error', cv=folds)\n",
    "-scores"
   ]
  },
  {
   "cell_type": "code",
   "execution_count": 397,
   "metadata": {},
   "outputs": [
    {
     "data": {
      "text/plain": [
       "37.793641631710486"
      ]
     },
     "execution_count": 397,
     "metadata": {},
     "output_type": "execute_result"
    }
   ],
   "source": [
    "# mean score of cross_validation\n",
    "-scores.mean()"
   ]
  },
  {
   "cell_type": "code",
   "execution_count": 398,
   "metadata": {},
   "outputs": [],
   "source": [
    "regressor = LinearRegression()\n",
    "regressor.fit(X_train, y_train)\n",
    "y_pred = regressor.predict(X_test)"
   ]
  },
  {
   "cell_type": "code",
   "execution_count": 372,
   "metadata": {},
   "outputs": [],
   "source": [
    "#sorted(sklearn.metrics.SCORERS.keys())"
   ]
  },
  {
   "cell_type": "code",
   "execution_count": 399,
   "metadata": {},
   "outputs": [
    {
     "data": {
      "text/html": [
       "<div>\n",
       "<style scoped>\n",
       "    .dataframe tbody tr th:only-of-type {\n",
       "        vertical-align: middle;\n",
       "    }\n",
       "\n",
       "    .dataframe tbody tr th {\n",
       "        vertical-align: top;\n",
       "    }\n",
       "\n",
       "    .dataframe thead th {\n",
       "        text-align: right;\n",
       "    }\n",
       "</style>\n",
       "<table border=\"1\" class=\"dataframe\">\n",
       "  <thead>\n",
       "    <tr style=\"text-align: right;\">\n",
       "      <th></th>\n",
       "      <th>Metrics</th>\n",
       "    </tr>\n",
       "  </thead>\n",
       "  <tbody>\n",
       "    <tr>\n",
       "      <th>MAE</th>\n",
       "      <td>34.246964</td>\n",
       "    </tr>\n",
       "    <tr>\n",
       "      <th>MAPE</th>\n",
       "      <td>0.185082</td>\n",
       "    </tr>\n",
       "    <tr>\n",
       "      <th>RMSE</th>\n",
       "      <td>49.553954</td>\n",
       "    </tr>\n",
       "    <tr>\n",
       "      <th>R2</th>\n",
       "      <td>0.801539</td>\n",
       "    </tr>\n",
       "    <tr>\n",
       "      <th>theil_u</th>\n",
       "      <td>0.084830</td>\n",
       "    </tr>\n",
       "    <tr>\n",
       "      <th>POCID</th>\n",
       "      <td>83.333333</td>\n",
       "    </tr>\n",
       "    <tr>\n",
       "      <th>ARV</th>\n",
       "      <td>0.016538</td>\n",
       "    </tr>\n",
       "    <tr>\n",
       "      <th>IA</th>\n",
       "      <td>0.119558</td>\n",
       "    </tr>\n",
       "  </tbody>\n",
       "</table>\n",
       "</div>"
      ],
      "text/plain": [
       "           Metrics\n",
       "MAE      34.246964\n",
       "MAPE      0.185082\n",
       "RMSE     49.553954\n",
       "R2        0.801539\n",
       "theil_u   0.084830\n",
       "POCID    83.333333\n",
       "ARV       0.016538\n",
       "IA        0.119558"
      ]
     },
     "execution_count": 399,
     "metadata": {},
     "output_type": "execute_result"
    }
   ],
   "source": [
    "custom_metrics(y_test, y_pred)"
   ]
  },
  {
   "cell_type": "markdown",
   "metadata": {},
   "source": [
    "We can a see a good perfomance in all the metrics defined. \n",
    "\n",
    "The error obtain with the RMSE is a little higher than the average of the cross validation, however it's still in an acceptable range.\n",
    "\n",
    "\n",
    "The R2 Coeffient indicated that the model can explained almost 80% of the variance of the model with the features used.\n",
    "\n",
    "The POCID indicates how well the model respond to the changes of directions of the series, and although 83% is a pretty high value, since the data used for the training was shuffle the use of this metrics is not reliable."
   ]
  },
  {
   "cell_type": "markdown",
   "metadata": {},
   "source": [
    "### Predicting sales for March 2021"
   ]
  },
  {
   "cell_type": "code",
   "execution_count": 375,
   "metadata": {},
   "outputs": [],
   "source": [
    "#getting dummies for the categorical variables\n",
    "dummies_a = pd.DataFrame(enc_a.transform(np.array(validation.affectednes).reshape(-1, 1)))\n",
    "dummies_y = pd.DataFrame(enc_y.transform(np.array(validation.year).reshape(-1, 1)))\n",
    "dummies_m = pd.DataFrame(enc_m.transform(np.array(validation.month).reshape(-1, 1)))\n",
    "val_data = pd.concat([validation['last_month_sales'],dummies_y,dummies_m, dummies_a], axis=1, ignore_index= True)"
   ]
  },
  {
   "cell_type": "code",
   "execution_count": 401,
   "metadata": {},
   "outputs": [
    {
     "data": {
      "text/plain": [
       "array([218.54868861])"
      ]
     },
     "execution_count": 401,
     "metadata": {},
     "output_type": "execute_result"
    }
   ],
   "source": [
    "#predicting value\n",
    "sales_march = regressor.predict(val_data)\n",
    "sales_march"
   ]
  },
  {
   "cell_type": "markdown",
   "metadata": {},
   "source": [
    "The Predicted value by the model is 218.\n",
    "Using the represetation of order per shift estimated ealier in this notebook, we can calculate the number of orders of each shift."
   ]
  },
  {
   "cell_type": "code",
   "execution_count": 404,
   "metadata": {},
   "outputs": [
    {
     "name": "stdout",
     "output_type": "stream",
     "text": [
      "[218.54868861]\n"
     ]
    }
   ],
   "source": [
    "morning_shift = sales_march * shifts[0]\n",
    "afternoon_shift = sales_march - morning_shift"
   ]
  },
  {
   "cell_type": "code",
   "execution_count": 405,
   "metadata": {},
   "outputs": [
    {
     "data": {
      "text/plain": [
       "array([97.06434881])"
      ]
     },
     "execution_count": 405,
     "metadata": {},
     "output_type": "execute_result"
    }
   ],
   "source": [
    "morning_shift"
   ]
  },
  {
   "cell_type": "code",
   "execution_count": 406,
   "metadata": {},
   "outputs": [
    {
     "data": {
      "text/plain": [
       "array([121.4843398])"
      ]
     },
     "execution_count": 406,
     "metadata": {},
     "output_type": "execute_result"
    }
   ],
   "source": [
    "afternoon_shift"
   ]
  },
  {
   "cell_type": "markdown",
   "metadata": {},
   "source": [
    "Now let's convert the orders per shift to required staff using the minimum work ratio per operator.\n",
    "the minimum work ratio of orders picked per hour is 5, and since each shift is 6 hour long, we have a minumum of 30 orders per shift picked by operator."
   ]
  },
  {
   "cell_type": "code",
   "execution_count": 408,
   "metadata": {},
   "outputs": [
    {
     "data": {
      "text/plain": [
       "3"
      ]
     },
     "execution_count": 408,
     "metadata": {},
     "output_type": "execute_result"
    }
   ],
   "source": [
    "pickers_morning = floor(morning_shift/30)\n",
    "pickers_morning"
   ]
  },
  {
   "cell_type": "code",
   "execution_count": 410,
   "metadata": {},
   "outputs": [
    {
     "data": {
      "text/plain": [
       "4"
      ]
     },
     "execution_count": 410,
     "metadata": {},
     "output_type": "execute_result"
    }
   ],
   "source": [
    "pickers_afternoon = floor(afternoon_shift/30)\n",
    "pickers_afternoon"
   ]
  },
  {
   "cell_type": "markdown",
   "metadata": {},
   "source": [
    "## Conclusions!"
   ]
  },
  {
   "cell_type": "markdown",
   "metadata": {},
   "source": [
    "According to the analysis carried out in this notebook, the recommendation for the ABC company in order to satisfy the fulfillment of all the orders in an efficient way is to hire for the month of March: 3 operators for the morning shift and 4 for the afternoon shift."
   ]
  },
  {
   "cell_type": "code",
   "execution_count": null,
   "metadata": {},
   "outputs": [],
   "source": []
  }
 ],
 "metadata": {
  "kernelspec": {
   "display_name": "Python 3",
   "language": "python",
   "name": "python3"
  },
  "language_info": {
   "codemirror_mode": {
    "name": "ipython",
    "version": 3
   },
   "file_extension": ".py",
   "mimetype": "text/x-python",
   "name": "python",
   "nbconvert_exporter": "python",
   "pygments_lexer": "ipython3",
   "version": "3.7.1"
  }
 },
 "nbformat": 4,
 "nbformat_minor": 4
}
